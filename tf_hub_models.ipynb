{
 "cells": [
  {
   "cell_type": "markdown",
   "metadata": {},
   "source": [
    "## Image Classification using Pre-trained models from Tensorflow Hub"
   ]
  },
  {
   "cell_type": "code",
   "execution_count": 1,
   "metadata": {
    "id": "7W9WG65JWDst"
   },
   "outputs": [],
   "source": [
    "import os\n",
    "import numpy as np\n",
    "\n",
    "import PIL.Image as Image\n",
    "\n",
    "from sklearn.model_selection import train_test_split\n",
    "from sklearn.metrics import accuracy_score\n",
    "import tensorflow as tf\n",
    "import tensorflow_hub as hub"
   ]
  },
  {
   "cell_type": "code",
   "execution_count": 2,
   "metadata": {
    "colab": {
     "base_uri": "https://localhost:8080/"
    },
    "id": "DNlyiLoifu2v",
    "outputId": "bba2381a-4afc-4ef1-ca29-64e244fe0c9c"
   },
   "outputs": [
    {
     "name": "stdout",
     "output_type": "stream",
     "text": [
      "Drive already mounted at /content/drive; to attempt to forcibly remount, call drive.mount(\"/content/drive\", force_remount=True).\n"
     ]
    }
   ],
   "source": [
    "from google.colab import drive\n",
    "drive.mount('/content/drive')"
   ]
  },
  {
   "cell_type": "code",
   "execution_count": 2,
   "metadata": {
    "id": "iWtgXU_IYL-j"
   },
   "outputs": [],
   "source": [
    "folder1 = '/content/drive/MyDrive/race0'\n",
    "folder2 = '/content/drive/MyDrive/race1'\n",
    "folder3 = '/content/drive/MyDrive/race2'"
   ]
  },
  {
   "cell_type": "code",
   "execution_count": 3,
   "metadata": {
    "id": "kUHs6LtsYMBj"
   },
   "outputs": [],
   "source": [
    "images = []\n",
    "gender = []\n",
    "race = []\n",
    "for filename in os.listdir(folder1):\n",
    "            img = Image.open(os.path.join(folder1, filename)).resize((224, 224))\n",
    "            img = np.array(img)/255.0\n",
    "            images.append(img)\n",
    "            gender.append(int(filename[3]))\n",
    "            race.append(int(filename[5]))"
   ]
  },
  {
   "cell_type": "code",
   "execution_count": 4,
   "metadata": {
    "id": "YFSAiooyaX3R"
   },
   "outputs": [],
   "source": [
    "for filename in os.listdir(folder2):\n",
    "            img = Image.open(os.path.join(folder2, filename)).resize((224, 224))\n",
    "            img = np.array(img)/255.0\n",
    "            images.append(img)\n",
    "            gender.append(int(filename[3]))\n",
    "            race.append(int(filename[5]))"
   ]
  },
  {
   "cell_type": "code",
   "execution_count": 5,
   "metadata": {
    "id": "OXlk3S6paiRR"
   },
   "outputs": [],
   "source": [
    "for filename in os.listdir(folder3):\n",
    "            img = Image.open(os.path.join(folder3, filename)).resize((224, 224))\n",
    "            img = np.array(img)/255.0\n",
    "            images.append(img)\n",
    "            gender.append(int(filename[3]))\n",
    "            race.append(int(filename[5]))"
   ]
  },
  {
   "cell_type": "code",
   "execution_count": 6,
   "metadata": {
    "id": "vA2R7JRLaCNj"
   },
   "outputs": [],
   "source": [
    "images = np.asarray(images, dtype = 'float')\n",
    "gender = np.asarray(gender, dtype = 'int')\n",
    "race = np.asarray(race, dtype = 'int')"
   ]
  },
  {
   "cell_type": "code",
   "execution_count": null,
   "metadata": {},
   "outputs": [],
   "source": []
  },
  {
   "cell_type": "markdown",
   "metadata": {
    "id": "5wbp0PHeuQ41"
   },
   "source": [
    "### Gender Classification using InceptionV3"
   ]
  },
  {
   "cell_type": "code",
   "execution_count": null,
   "metadata": {
    "id": "psvc2WtkbH1b"
   },
   "outputs": [],
   "source": [
    "x_train, x_test, y_train, y_test = train_test_split(\n",
    "    images,\n",
    "    gender,\n",
    "    test_size = 0.2,\n",
    "    random_state = 42\n",
    ")"
   ]
  },
  {
   "cell_type": "code",
   "execution_count": null,
   "metadata": {
    "id": "GPBe2N_lWFqF"
   },
   "outputs": [],
   "source": [
    "inception_v3 = \"https://tfhub.dev/google/tf2-preview/inception_v3/feature_vector/4\""
   ]
  },
  {
   "cell_type": "code",
   "execution_count": null,
   "metadata": {
    "id": "GXSVGNx8XYK0"
   },
   "outputs": [],
   "source": [
    "feature_extractor_layer = hub.KerasLayer(\n",
    "    inception_v3,\n",
    "    input_shape=(224, 224, 3),\n",
    "    trainable=False)"
   ]
  },
  {
   "cell_type": "code",
   "execution_count": null,
   "metadata": {
    "id": "pKPf2iFbWFs-"
   },
   "outputs": [],
   "source": [
    "model = tf.keras.Sequential([\n",
    "  feature_extractor_layer,\n",
    "  tf.keras.layers.Dense(1, activation = 'sigmoid')\n",
    "])"
   ]
  },
  {
   "cell_type": "code",
   "execution_count": null,
   "metadata": {
    "id": "UHtybpJXWFv3"
   },
   "outputs": [],
   "source": [
    "model.compile(\n",
    "    optimizer = 'adam',\n",
    "    loss = 'BinaryCrossentropy',\n",
    "    metrics = ['accuracy']\n",
    ")"
   ]
  },
  {
   "cell_type": "code",
   "execution_count": null,
   "metadata": {
    "colab": {
     "base_uri": "https://localhost:8080/"
    },
    "id": "Tl3CMIppbpxt",
    "outputId": "532f9a97-c6f5-41e6-cdb7-8a2e1489a852"
   },
   "outputs": [
    {
     "name": "stdout",
     "output_type": "stream",
     "text": [
      "Epoch 1/5\n",
      "240/240 [==============================] - 311s 1s/step - loss: 0.3652 - accuracy: 0.8419 - val_loss: 0.2677 - val_accuracy: 0.8854\n",
      "Epoch 2/5\n",
      "240/240 [==============================] - 291s 1s/step - loss: 0.2748 - accuracy: 0.8930 - val_loss: 0.2594 - val_accuracy: 0.8979\n",
      "Epoch 3/5\n",
      "240/240 [==============================] - 260s 1s/step - loss: 0.2527 - accuracy: 0.9034 - val_loss: 0.2518 - val_accuracy: 0.9083\n",
      "Epoch 4/5\n",
      "240/240 [==============================] - 261s 1s/step - loss: 0.2322 - accuracy: 0.9066 - val_loss: 0.2716 - val_accuracy: 0.8938\n",
      "Epoch 5/5\n",
      "240/240 [==============================] - 291s 1s/step - loss: 0.2188 - accuracy: 0.9097 - val_loss: 0.2937 - val_accuracy: 0.8771\n"
     ]
    }
   ],
   "source": [
    "results = model.fit(x_train, \n",
    "          y_train, \n",
    "          epochs = 5,\n",
    "          batch_size = 8,\n",
    "          validation_split = 0.2\n",
    ")"
   ]
  },
  {
   "cell_type": "code",
   "execution_count": null,
   "metadata": {
    "colab": {
     "base_uri": "https://localhost:8080/"
    },
    "id": "DmkS5qebb8A7",
    "outputId": "929cbe25-e810-4dff-af10-2405228bd197"
   },
   "outputs": [
    {
     "name": "stdout",
     "output_type": "stream",
     "text": [
      "19/19 [==============================] - 63s 3s/step - loss: 0.2440 - accuracy: 0.9098\n",
      "0.9098497629165649\n"
     ]
    }
   ],
   "source": [
    "score = model.evaluate(x_test, y_test)\n",
    "test_accuracy = score[1]\n",
    "print(test_accuracy)"
   ]
  },
  {
   "cell_type": "code",
   "execution_count": null,
   "metadata": {},
   "outputs": [],
   "source": []
  },
  {
   "cell_type": "markdown",
   "metadata": {
    "id": "igGXCr_3uO7l"
   },
   "source": [
    "### Race Classification using InceptionV3"
   ]
  },
  {
   "cell_type": "code",
   "execution_count": 8,
   "metadata": {
    "id": "kvucYUm1b8DX"
   },
   "outputs": [],
   "source": [
    "x_train, x_test, y_train, y_test = train_test_split(\n",
    "    images,\n",
    "    race,\n",
    "    test_size = 0.2,\n",
    "    random_state = 42\n",
    ")"
   ]
  },
  {
   "cell_type": "code",
   "execution_count": 9,
   "metadata": {
    "id": "p0F898UkhoaB"
   },
   "outputs": [],
   "source": [
    "inception_v3 = \"https://tfhub.dev/google/tf2-preview/inception_v3/feature_vector/4\""
   ]
  },
  {
   "cell_type": "code",
   "execution_count": 10,
   "metadata": {
    "id": "Qhfeu3vihqCg"
   },
   "outputs": [],
   "source": [
    "feature_extractor_layer = hub.KerasLayer(\n",
    "    inception_v3,\n",
    "    input_shape=(224, 224, 3),\n",
    "    trainable=False)"
   ]
  },
  {
   "cell_type": "code",
   "execution_count": 11,
   "metadata": {
    "id": "FJtNhF7RhqHq"
   },
   "outputs": [],
   "source": [
    "model = tf.keras.Sequential([\n",
    "  feature_extractor_layer,\n",
    "  tf.keras.layers.Dense(500, activation = 'relu'),\n",
    "  tf.keras.layers.Dense(3, activation = 'softmax')\n",
    "])"
   ]
  },
  {
   "cell_type": "code",
   "execution_count": 12,
   "metadata": {
    "id": "iizYEbsyh6EZ"
   },
   "outputs": [],
   "source": [
    "model.compile(\n",
    "    optimizer = 'adam',\n",
    "    loss = 'sparse_categorical_crossentropy',\n",
    "    metrics = ['accuracy']\n",
    ")"
   ]
  },
  {
   "cell_type": "code",
   "execution_count": 13,
   "metadata": {
    "colab": {
     "base_uri": "https://localhost:8080/"
    },
    "id": "v8yAQ43Ch6OV",
    "outputId": "5ee5d3cf-65f5-480a-e9e4-297543edba7d"
   },
   "outputs": [
    {
     "name": "stdout",
     "output_type": "stream",
     "text": [
      "Epoch 1/5\n",
      "255/255 [==============================] - 241s 918ms/step - loss: 0.9403 - accuracy: 0.6149 - val_loss: 0.7568 - val_accuracy: 0.7000\n",
      "Epoch 2/5\n",
      "255/255 [==============================] - 223s 874ms/step - loss: 0.6848 - accuracy: 0.7141 - val_loss: 0.7248 - val_accuracy: 0.7028\n",
      "Epoch 3/5\n",
      "255/255 [==============================] - 224s 877ms/step - loss: 0.6065 - accuracy: 0.7500 - val_loss: 0.7164 - val_accuracy: 0.7278\n",
      "Epoch 4/5\n",
      "255/255 [==============================] - 224s 881ms/step - loss: 0.5517 - accuracy: 0.7633 - val_loss: 0.7074 - val_accuracy: 0.7306\n",
      "Epoch 5/5\n",
      "255/255 [==============================] - 223s 876ms/step - loss: 0.4855 - accuracy: 0.8021 - val_loss: 0.6612 - val_accuracy: 0.7583\n"
     ]
    }
   ],
   "source": [
    "results = model.fit(x_train, \n",
    "          y_train, \n",
    "          epochs = 5,\n",
    "          batch_size = 8,\n",
    "          validation_split = 0.15\n",
    ")"
   ]
  },
  {
   "cell_type": "code",
   "execution_count": 15,
   "metadata": {
    "colab": {
     "base_uri": "https://localhost:8080/"
    },
    "id": "kivhZzQPh6TB",
    "outputId": "e10ed49f-b2a3-46b9-eae4-47f680201f52"
   },
   "outputs": [
    {
     "name": "stdout",
     "output_type": "stream",
     "text": [
      "19/19 [==============================] - 55s 3s/step - loss: 0.7167 - accuracy: 0.7212\n",
      "0.72120201587677\n"
     ]
    }
   ],
   "source": [
    "score = model.evaluate(x_test, y_test)\n",
    "test_accuracy = score[1]\n",
    "print(test_accuracy)"
   ]
  },
  {
   "cell_type": "code",
   "execution_count": null,
   "metadata": {
    "id": "r4T1PIvLt2dH"
   },
   "outputs": [],
   "source": []
  },
  {
   "cell_type": "markdown",
   "metadata": {},
   "source": [
    "### Gender Classification using ResNet50"
   ]
  },
  {
   "cell_type": "code",
   "execution_count": null,
   "metadata": {
    "id": "rYbH067mt2hO"
   },
   "outputs": [],
   "source": [
    "x_train, x_test, y_train, y_test = train_test_split(\n",
    "    images,\n",
    "    race,\n",
    "    test_size = 0.2,\n",
    "    random_state = 42\n",
    ")"
   ]
  },
  {
   "cell_type": "code",
   "execution_count": 8,
   "metadata": {
    "id": "tozFciFdt2n1"
   },
   "outputs": [],
   "source": [
    "resnet_50 =\"https://tfhub.dev/google/bit/m-r50x1/1\""
   ]
  },
  {
   "cell_type": "code",
   "execution_count": 9,
   "metadata": {
    "id": "HOBDy32Ut2r3"
   },
   "outputs": [],
   "source": [
    "feature_extractor_layer = hub.KerasLayer(\n",
    "    resnet_50,\n",
    "    input_shape=(224, 224, 3),\n",
    "    trainable=False)"
   ]
  },
  {
   "cell_type": "code",
   "execution_count": 10,
   "metadata": {
    "id": "jY6JEcxTuCcd"
   },
   "outputs": [],
   "source": [
    "model = tf.keras.Sequential([\n",
    "  feature_extractor_layer,\n",
    "  tf.keras.layers.Dense(1, activation = 'sigmoid')\n",
    "])"
   ]
  },
  {
   "cell_type": "code",
   "execution_count": 11,
   "metadata": {
    "id": "ba4bw-CYuCfa"
   },
   "outputs": [],
   "source": [
    "model.compile(\n",
    "    optimizer = 'adam',\n",
    "    loss = 'BinaryCrossentropy',\n",
    "    metrics = ['accuracy']\n",
    ")"
   ]
  },
  {
   "cell_type": "code",
   "execution_count": 12,
   "metadata": {
    "colab": {
     "base_uri": "https://localhost:8080/"
    },
    "id": "nkGKYm9ZuCia",
    "outputId": "7c90655f-a8d9-4fae-9859-96bfb7b0fe42"
   },
   "outputs": [
    {
     "name": "stdout",
     "output_type": "stream",
     "text": [
      "Epoch 1/5\n",
      "240/240 [==============================] - 535s 2s/step - loss: 0.2704 - accuracy: 0.9024 - val_loss: 0.1016 - val_accuracy: 0.9604\n",
      "Epoch 2/5\n",
      "240/240 [==============================] - 507s 2s/step - loss: 0.1334 - accuracy: 0.9535 - val_loss: 0.0984 - val_accuracy: 0.9667\n",
      "Epoch 3/5\n",
      "240/240 [==============================] - 505s 2s/step - loss: 0.1048 - accuracy: 0.9619 - val_loss: 0.0828 - val_accuracy: 0.9708\n",
      "Epoch 4/5\n",
      "240/240 [==============================] - 508s 2s/step - loss: 0.0901 - accuracy: 0.9671 - val_loss: 0.1492 - val_accuracy: 0.9500\n",
      "Epoch 5/5\n",
      "240/240 [==============================] - 506s 2s/step - loss: 0.0636 - accuracy: 0.9760 - val_loss: 0.1018 - val_accuracy: 0.9708\n"
     ]
    }
   ],
   "source": [
    "results = model.fit(x_train, \n",
    "          y_train, \n",
    "          epochs = 5,\n",
    "          batch_size = 8,\n",
    "          validation_split = 0.2\n",
    ")"
   ]
  },
  {
   "cell_type": "code",
   "execution_count": 13,
   "metadata": {
    "colab": {
     "base_uri": "https://localhost:8080/"
    },
    "id": "bUMmbOLPuClI",
    "outputId": "f98e6b62-8c90-4f00-9083-598daf1508dc"
   },
   "outputs": [
    {
     "name": "stdout",
     "output_type": "stream",
     "text": [
      "19/19 [==============================] - 125s 7s/step - loss: 0.1525 - accuracy: 0.9482\n",
      "0.9482470750808716\n"
     ]
    }
   ],
   "source": [
    "score = model.evaluate(x_test, y_test)\n",
    "test_accuracy = score[1]\n",
    "print(test_accuracy)"
   ]
  },
  {
   "cell_type": "code",
   "execution_count": null,
   "metadata": {},
   "outputs": [],
   "source": []
  },
  {
   "cell_type": "markdown",
   "metadata": {
    "id": "BY_cfjhXuomO"
   },
   "source": [
    "### Race Classification using ResNet50"
   ]
  },
  {
   "cell_type": "code",
   "execution_count": null,
   "metadata": {
    "id": "H9q-L4Tauo57"
   },
   "outputs": [],
   "source": [
    "x_train, x_test, y_train, y_test = train_test_split(\n",
    "    images,\n",
    "    race,\n",
    "    test_size = 0.2,\n",
    "    random_state = 42\n",
    ")"
   ]
  },
  {
   "cell_type": "code",
   "execution_count": 17,
   "metadata": {
    "id": "LdjUxLvhusvL"
   },
   "outputs": [],
   "source": [
    "resnet_50 =\"https://tfhub.dev/google/bit/m-r50x1/1\""
   ]
  },
  {
   "cell_type": "code",
   "execution_count": 18,
   "metadata": {
    "id": "ZKAfAEHOus3y"
   },
   "outputs": [],
   "source": [
    "feature_extractor_layer = hub.KerasLayer(\n",
    "    resnet_50,\n",
    "    input_shape=(224, 224, 3),\n",
    "    trainable=False)"
   ]
  },
  {
   "cell_type": "code",
   "execution_count": 19,
   "metadata": {
    "id": "SK9yav8__cW2"
   },
   "outputs": [],
   "source": [
    "model = tf.keras.Sequential([\n",
    "  feature_extractor_layer,\n",
    "  tf.keras.layers.Dense(1000, activation = 'relu'),\n",
    "  tf.keras.layers.Dropout(0.2),\n",
    "  tf.keras.layers.Dense(200, activation = 'relu'),\n",
    "  tf.keras.layers.Dense(3, activation = 'softmax')\n",
    "])"
   ]
  },
  {
   "cell_type": "code",
   "execution_count": 20,
   "metadata": {
    "id": "f8zTxRxqutHH"
   },
   "outputs": [],
   "source": [
    "model.compile(\n",
    "    optimizer = 'adam',\n",
    "    loss = 'sparse_categorical_crossentropy',\n",
    "    metrics = ['accuracy']\n",
    ")"
   ]
  },
  {
   "cell_type": "code",
   "execution_count": 21,
   "metadata": {
    "colab": {
     "base_uri": "https://localhost:8080/"
    },
    "id": "rsKStfnkutM5",
    "outputId": "96811a3d-9a7c-4617-a56c-93f76d0eaad8"
   },
   "outputs": [
    {
     "name": "stdout",
     "output_type": "stream",
     "text": [
      "Epoch 1/5\n",
      "255/255 [==============================] - 537s 2s/step - loss: 0.8977 - accuracy: 0.8035 - val_loss: 0.2875 - val_accuracy: 0.9028\n",
      "Epoch 2/5\n",
      "255/255 [==============================] - 512s 2s/step - loss: 0.3172 - accuracy: 0.8856 - val_loss: 0.2724 - val_accuracy: 0.9139\n",
      "Epoch 3/5\n",
      "255/255 [==============================] - 508s 2s/step - loss: 0.2961 - accuracy: 0.8919 - val_loss: 0.2991 - val_accuracy: 0.8917\n",
      "Epoch 4/5\n",
      "255/255 [==============================] - 510s 2s/step - loss: 0.2458 - accuracy: 0.9116 - val_loss: 0.3631 - val_accuracy: 0.8917\n",
      "Epoch 5/5\n",
      "255/255 [==============================] - 511s 2s/step - loss: 0.2124 - accuracy: 0.9234 - val_loss: 0.2819 - val_accuracy: 0.9056\n"
     ]
    }
   ],
   "source": [
    "results = model.fit(x_train, \n",
    "          y_train, \n",
    "          epochs = 5,\n",
    "          batch_size = 8,\n",
    "          validation_split = 0.15\n",
    ")"
   ]
  },
  {
   "cell_type": "code",
   "execution_count": 22,
   "metadata": {
    "colab": {
     "base_uri": "https://localhost:8080/"
    },
    "id": "gDC5KYr_utPw",
    "outputId": "3e861ab5-b021-49c9-d235-f6b303054560"
   },
   "outputs": [
    {
     "name": "stdout",
     "output_type": "stream",
     "text": [
      "19/19 [==============================] - 123s 6s/step - loss: 0.2854 - accuracy: 0.8932\n",
      "0.8931552767753601\n"
     ]
    }
   ],
   "source": [
    "score = model.evaluate(x_test, y_test)\n",
    "test_accuracy = score[1]\n",
    "print(test_accuracy)"
   ]
  },
  {
   "cell_type": "code",
   "execution_count": null,
   "metadata": {
    "id": "NHf820Mecmai"
   },
   "outputs": [],
   "source": []
  },
  {
   "cell_type": "code",
   "execution_count": null,
   "metadata": {
    "id": "FWy5Pk8FutUZ"
   },
   "outputs": [],
   "source": []
  }
 ],
 "metadata": {
  "colab": {
   "collapsed_sections": [],
   "name": "tf_hub_models.ipynb",
   "provenance": []
  },
  "kernelspec": {
   "display_name": "Python 3",
   "language": "python",
   "name": "python3"
  },
  "language_info": {
   "codemirror_mode": {
    "name": "ipython",
    "version": 3
   },
   "file_extension": ".py",
   "mimetype": "text/x-python",
   "name": "python",
   "nbconvert_exporter": "python",
   "pygments_lexer": "ipython3",
   "version": "3.8.8"
  }
 },
 "nbformat": 4,
 "nbformat_minor": 1
}
